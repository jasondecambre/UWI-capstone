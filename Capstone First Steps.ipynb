{
 "cells": [
  {
   "cell_type": "markdown",
   "id": "1ffa2e87",
   "metadata": {},
   "source": [
    "# Portfolio Optimization on the Jamaica Stock Exchange"
   ]
  },
  {
   "cell_type": "markdown",
   "id": "acc7ed1a",
   "metadata": {},
   "source": [
    "##### Steps:\n",
    "1. Scrape data\n",
    "2. Clean data\n",
    "3. Put data into a useful format\n",
    "4. Add and calculate relevant metrics for risk and return\n",
    "5. Store these data in MongoDB\n",
    "6. Use this + user data-determined risk level to optimize portfolio with geentic algorithms (details coming soon)\n",
    "7. Display results"
   ]
  },
  {
   "cell_type": "markdown",
   "id": "1737f9c9",
   "metadata": {},
   "source": [
    "### Importing libraries for web scraping and data cleaning"
   ]
  },
  {
   "cell_type": "code",
   "execution_count": 97,
   "id": "6310b40e",
   "metadata": {},
   "outputs": [],
   "source": [
    "import requests # Get URL data\n",
    "from bs4 import BeautifulSoup # Manipulate URL data\n",
    "import datetime # useful since stock prices are IRL time-series data\n",
    "from pandas import DataFrame as df # shortening to make easier\n",
    "# for manipulating data after scraping\n",
    "import numpy as np\n",
    "import pandas as pd"
   ]
  },
  {
   "cell_type": "markdown",
   "id": "c754c827",
   "metadata": {},
   "source": [
    "### Step 1: Scrape data"
   ]
  },
  {
   "cell_type": "code",
   "execution_count": 96,
   "id": "611d1322",
   "metadata": {},
   "outputs": [],
   "source": [
    "url_string = \"https://www.jamstockex.com/trading/trade-summary/?market=combined-market&date=\"\n",
    "\n",
    "test_page = requests.get(\"https://www.jamstockex.com/trading/trade-summary/?market=combined-market&date=2021-01-29\")\n",
    "soup = BeautifulSoup(test_page.text, \"html.parser\")\n",
    "soup.prettify() # this gives HTML text for a given web page\n",
    "pass"
   ]
  },
  {
   "cell_type": "code",
   "execution_count": 94,
   "id": "50b297a9",
   "metadata": {},
   "outputs": [
    {
     "data": {
      "text/html": [
       "<div>\n",
       "<style scoped>\n",
       "    .dataframe tbody tr th:only-of-type {\n",
       "        vertical-align: middle;\n",
       "    }\n",
       "\n",
       "    .dataframe tbody tr th {\n",
       "        vertical-align: top;\n",
       "    }\n",
       "\n",
       "    .dataframe thead th {\n",
       "        text-align: right;\n",
       "    }\n",
       "</style>\n",
       "<table border=\"1\" class=\"dataframe\">\n",
       "  <thead>\n",
       "    <tr style=\"text-align: right;\">\n",
       "      <th></th>\n",
       "      <th>Ticker</th>\n",
       "      <th>Closing Price</th>\n",
       "    </tr>\n",
       "  </thead>\n",
       "  <tbody>\n",
       "    <tr>\n",
       "      <th>0</th>\n",
       "      <td>138SL</td>\n",
       "      <td>4.02</td>\n",
       "    </tr>\n",
       "    <tr>\n",
       "      <th>1</th>\n",
       "      <td>AFS</td>\n",
       "      <td>23.21</td>\n",
       "    </tr>\n",
       "    <tr>\n",
       "      <th>2</th>\n",
       "      <td>CAC</td>\n",
       "      <td>10.60</td>\n",
       "    </tr>\n",
       "    <tr>\n",
       "      <th>3</th>\n",
       "      <td>CFF</td>\n",
       "      <td>1.99</td>\n",
       "    </tr>\n",
       "    <tr>\n",
       "      <th>4</th>\n",
       "      <td>CPJ</td>\n",
       "      <td>2.67</td>\n",
       "    </tr>\n",
       "    <tr>\n",
       "      <th>...</th>\n",
       "      <td>...</td>\n",
       "      <td>...</td>\n",
       "    </tr>\n",
       "    <tr>\n",
       "      <th>78</th>\n",
       "      <td>PBS</td>\n",
       "      <td>0.79</td>\n",
       "    </tr>\n",
       "    <tr>\n",
       "      <th>79</th>\n",
       "      <td>PROVEN</td>\n",
       "      <td>37.00</td>\n",
       "    </tr>\n",
       "    <tr>\n",
       "      <th>80</th>\n",
       "      <td>RJR</td>\n",
       "      <td>1.36</td>\n",
       "    </tr>\n",
       "    <tr>\n",
       "      <th>81</th>\n",
       "      <td>SELECTMD</td>\n",
       "      <td>0.70</td>\n",
       "    </tr>\n",
       "    <tr>\n",
       "      <th>82</th>\n",
       "      <td>TJH</td>\n",
       "      <td>1.35</td>\n",
       "    </tr>\n",
       "  </tbody>\n",
       "</table>\n",
       "<p>83 rows × 2 columns</p>\n",
       "</div>"
      ],
      "text/plain": [
       "      Ticker  Closing Price\n",
       "0      138SL           4.02\n",
       "1        AFS          23.21\n",
       "2        CAC          10.60\n",
       "3        CFF           1.99\n",
       "4        CPJ           2.67\n",
       "..       ...            ...\n",
       "78       PBS           0.79\n",
       "79    PROVEN          37.00\n",
       "80       RJR           1.36\n",
       "81  SELECTMD           0.70\n",
       "82       TJH           1.35\n",
       "\n",
       "[83 rows x 2 columns]"
      ]
     },
     "execution_count": 94,
     "metadata": {},
     "output_type": "execute_result"
    }
   ],
   "source": [
    "rows = soup.find_all(\"tr\")\n",
    "tickers = []\n",
    "closingPrices = []\n",
    "for row in rows:\n",
    "    rowData = row.get_text().split()\n",
    "    if rowData[0] != \"Symbol\":\n",
    "        tickers.append(rowData[0])\n",
    "        try:\n",
    "            price = float(rowData[-3])\n",
    "        except ValueError:\n",
    "            price = float(rowData[-1])\n",
    "        closingPrices.append(price)\n",
    "#         else:\n",
    "#             closingPrices.append(rowData[-1])\n",
    "\n",
    "data = {\"Ticker\": tickers,\n",
    "        \"Closing Price\": closingPrices}\n",
    "pdframe = df(data)\n",
    "pdframe"
   ]
  }
 ],
 "metadata": {
  "kernelspec": {
   "display_name": "Python 3 (ipykernel)",
   "language": "python",
   "name": "python3"
  },
  "language_info": {
   "codemirror_mode": {
    "name": "ipython",
    "version": 3
   },
   "file_extension": ".py",
   "mimetype": "text/x-python",
   "name": "python",
   "nbconvert_exporter": "python",
   "pygments_lexer": "ipython3",
   "version": "3.8.11"
  }
 },
 "nbformat": 4,
 "nbformat_minor": 5
}
